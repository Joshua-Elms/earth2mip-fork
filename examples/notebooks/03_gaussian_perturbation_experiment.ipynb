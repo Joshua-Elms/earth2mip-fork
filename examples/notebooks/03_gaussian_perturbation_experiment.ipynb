{
 "cells": [
  {
   "cell_type": "markdown",
   "id": "b04735b8",
   "metadata": {},
   "source": [
    "# Perturbation-Response experiment in Earth-2 MIP"
   ]
  },
  {
   "cell_type": "markdown",
   "id": "0455b86b",
   "metadata": {},
   "source": [
    "The following notebook demostrates how to use Earth-2 MIP's config schema and builtin inference workflows to perform a deterministic run with a perturbation to the a chosen field `t580` in this case. This is done with FourCastNetv2 small (FCNv2-sm) weather model with an intial state pulled from the Climate Data Store (CDS) and perturbed with random noise. The ensemble output will then be loaded into an Xarray Dataset and some sample data analysis is provided.\n",
    "\n",
    "In summary this notebook will cover the following topics:\n",
    "\n",
    "- Configuring and setting up FCNv2 model registry\n",
    "- An ensemble configuration file\n",
    "- Running deterministic inference in Earth-2 MIP with localized heating to produce an xarray DataSet\n",
    "- Post processing results"
   ]
  },
  {
   "cell_type": "markdown",
   "id": "9c93c040",
   "metadata": {},
   "source": [
    "## Set Up\n",
    "\n",
    "Starting off with imports, hopefully you have already installed Earth-2 MIP from this repository. There are a few additional packages needed. Lets install these first."
   ]
  },
  {
   "cell_type": "code",
   "execution_count": 1,
   "id": "8bdce46e",
   "metadata": {
    "vscode": {
     "languageId": "bat"
    }
   },
   "outputs": [],
   "source": [
    "%%capture\n",
    "!pip install cartopy ecmwflibs h5netcdf"
   ]
  },
  {
   "cell_type": "code",
   "execution_count": 2,
   "id": "20648a9c",
   "metadata": {},
   "outputs": [],
   "source": [
    "# For running inference we dont need much\n",
    "import os, json, logging\n",
    "import xarray"
   ]
  },
  {
   "cell_type": "markdown",
   "id": "d6401136",
   "metadata": {},
   "source": [
    "Prior to importing Earth-2 MIP, its critical we set up a few enviroment variables which will help Earth-2 MIP get configured correctly under the hood. There are a number of different global configuration options, the ones will will set here are:\n",
    "\n",
    "- `WORLD_SIZE`: Tells Earth-2 MIP (which uses Modulus under the hood) the number of GPUs present\n",
    "- `MODEL_REGISTRY`: This variable tells Earth-2 MIP where look for a model registery\n",
    "\n",
    "*Key Concept*: A model registry is a folder that Earth-2 MIP will explore to find model checkpoints to load. A folder containing the required fileds is referred to as a \"model package\". Model packages typically consist of a few files including:\n",
    "- `weights.tar`: the Pytorch model checkpoint to load\n",
    "- `metadata.json`: a JSON file that contains meta info regarding various details for using the model\n",
    "- `config.json`: constains parameters needed to instantiate the model object in python\n",
    "- `global_means.npy`: A numpy array containing the mean values used for normalization of data in the model\n",
    "- `global_std.npy`: A numpy array containing the standard deviation values used for normalization of data in the model"
   ]
  },
  {
   "cell_type": "code",
   "execution_count": 3,
   "id": "c36a9f24",
   "metadata": {},
   "outputs": [],
   "source": [
    "# Set number of GPUs to use to 1\n",
    "os.environ['WORLD_SIZE'] = '1'\n",
    "# Set model registry as a local folder\n",
    "model_registry = os.path.join(os.path.dirname(os.path.realpath(os. getcwd())), \"models\")\n",
    "os.makedirs(model_registry, exist_ok=True)\n",
    "os.environ['MODEL_REGISTRY'] = model_registry\n",
    "\n",
    "# With the enviroment variables set now we import Earth-2 MIP\n",
    "from earth2mip import inference_ensemble"
   ]
  },
  {
   "cell_type": "markdown",
   "id": "74ca09a6",
   "metadata": {},
   "source": [
    "The cell above created a model registry folder for us, but if this is your first notebook its likely empty. Lets fix that. As previously metioned we will be using the FCNv2-sm weather model with the checkpoint provided on the Nvidia Modulus model registry. The model is shipped via a zip folder containing the required checkpoint files discussed above."
   ]
  },
  {
   "cell_type": "code",
   "execution_count": 4,
   "id": "161396d4",
   "metadata": {},
   "outputs": [],
   "source": [
    "import subprocess\n",
    "if not os.path.isdir(os.path.join(model_registry, 'fcnv2_sm')):\n",
    "    subprocess.run(['wget', '-nc', '-P', f'{model_registry}', 'https://api.ngc.nvidia.com/v2/models/nvidia/modulus/modulus_fcnv2_sm/versions/v0.2/files/fcnv2_sm.zip'])\n",
    "    subprocess.run(['unzip', '-u', f'{model_registry}/fcnv2_sm.zip', '-d', f'{model_registry}'])\n",
    "    subprocess.run(['rm', f'{model_registry}/fcnv2_sm.zip'])"
   ]
  },
  {
   "cell_type": "markdown",
   "id": "b13a5004",
   "metadata": {},
   "source": [
    "The final setup step is to set up your CDS API key so we can access ERA5 data to act as an initial state. Earth-2 MIP supports a number of different initial state data sources that are supported including HDF5, CDS, GFS, etc. The CDS initial state provides a convenient way to access a limited amount of historical weather data. Its recommended for accessing an initial state, but larger data requirements should use locally stored weather datasets.\n",
    "\n",
    "Enter your CDS API uid and key below (found under your profile page). If you don't a CDS API key, find out more here.\n",
    "- [https://cds.climate.copernicus.eu/cdsapp#!/home](https://cds.climate.copernicus.eu/cdsapp#!/home)\n",
    "- [https://cds.climate.copernicus.eu/api-how-to](https://cds.climate.copernicus.eu/api-how-to)"
   ]
  },
  {
   "cell_type": "code",
   "execution_count": 5,
   "id": "c1bbb458",
   "metadata": {},
   "outputs": [
    {
     "ename": "KeyboardInterrupt",
     "evalue": "Interrupted by user",
     "output_type": "error",
     "traceback": [
      "\u001b[0;31m---------------------------------------------------------------------------\u001b[0m",
      "\u001b[0;31mKeyboardInterrupt\u001b[0m                         Traceback (most recent call last)",
      "Cell \u001b[0;32mIn[5], line 2\u001b[0m\n\u001b[1;32m      1\u001b[0m \u001b[38;5;66;03m# Run this cell and input your credentials in the notebook\u001b[39;00m\n\u001b[0;32m----> 2\u001b[0m uid \u001b[38;5;241m=\u001b[39m \u001b[38;5;28;43minput\u001b[39;49m\u001b[43m(\u001b[49m\u001b[38;5;124;43m\"\u001b[39;49m\u001b[38;5;124;43mEnter in CDS UID (e.g. 123456)\u001b[39;49m\u001b[38;5;124;43m\"\u001b[39;49m\u001b[43m)\u001b[49m\n\u001b[1;32m      3\u001b[0m key \u001b[38;5;241m=\u001b[39m \u001b[38;5;28minput\u001b[39m(\u001b[38;5;124m\"\u001b[39m\u001b[38;5;124mEnter your CDS API key (e.g. 12345678-1234-1234-1234-123456123456)\u001b[39m\u001b[38;5;124m\"\u001b[39m)\n\u001b[1;32m      5\u001b[0m \u001b[38;5;66;03m# Write to config file for CDS library\u001b[39;00m\n",
      "File \u001b[0;32m/usr/local/lib/python3.10/dist-packages/ipykernel/kernelbase.py:1191\u001b[0m, in \u001b[0;36mKernel.raw_input\u001b[0;34m(self, prompt)\u001b[0m\n\u001b[1;32m   1189\u001b[0m     msg \u001b[38;5;241m=\u001b[39m \u001b[38;5;124m\"\u001b[39m\u001b[38;5;124mraw_input was called, but this frontend does not support input requests.\u001b[39m\u001b[38;5;124m\"\u001b[39m\n\u001b[1;32m   1190\u001b[0m     \u001b[38;5;28;01mraise\u001b[39;00m StdinNotImplementedError(msg)\n\u001b[0;32m-> 1191\u001b[0m \u001b[38;5;28;01mreturn\u001b[39;00m \u001b[38;5;28;43mself\u001b[39;49m\u001b[38;5;241;43m.\u001b[39;49m\u001b[43m_input_request\u001b[49m\u001b[43m(\u001b[49m\n\u001b[1;32m   1192\u001b[0m \u001b[43m    \u001b[49m\u001b[38;5;28;43mstr\u001b[39;49m\u001b[43m(\u001b[49m\u001b[43mprompt\u001b[49m\u001b[43m)\u001b[49m\u001b[43m,\u001b[49m\n\u001b[1;32m   1193\u001b[0m \u001b[43m    \u001b[49m\u001b[38;5;28;43mself\u001b[39;49m\u001b[38;5;241;43m.\u001b[39;49m\u001b[43m_parent_ident\u001b[49m\u001b[43m[\u001b[49m\u001b[38;5;124;43m\"\u001b[39;49m\u001b[38;5;124;43mshell\u001b[39;49m\u001b[38;5;124;43m\"\u001b[39;49m\u001b[43m]\u001b[49m\u001b[43m,\u001b[49m\n\u001b[1;32m   1194\u001b[0m \u001b[43m    \u001b[49m\u001b[38;5;28;43mself\u001b[39;49m\u001b[38;5;241;43m.\u001b[39;49m\u001b[43mget_parent\u001b[49m\u001b[43m(\u001b[49m\u001b[38;5;124;43m\"\u001b[39;49m\u001b[38;5;124;43mshell\u001b[39;49m\u001b[38;5;124;43m\"\u001b[39;49m\u001b[43m)\u001b[49m\u001b[43m,\u001b[49m\n\u001b[1;32m   1195\u001b[0m \u001b[43m    \u001b[49m\u001b[43mpassword\u001b[49m\u001b[38;5;241;43m=\u001b[39;49m\u001b[38;5;28;43;01mFalse\u001b[39;49;00m\u001b[43m,\u001b[49m\n\u001b[1;32m   1196\u001b[0m \u001b[43m\u001b[49m\u001b[43m)\u001b[49m\n",
      "File \u001b[0;32m/usr/local/lib/python3.10/dist-packages/ipykernel/kernelbase.py:1234\u001b[0m, in \u001b[0;36mKernel._input_request\u001b[0;34m(self, prompt, ident, parent, password)\u001b[0m\n\u001b[1;32m   1231\u001b[0m \u001b[38;5;28;01mexcept\u001b[39;00m \u001b[38;5;167;01mKeyboardInterrupt\u001b[39;00m:\n\u001b[1;32m   1232\u001b[0m     \u001b[38;5;66;03m# re-raise KeyboardInterrupt, to truncate traceback\u001b[39;00m\n\u001b[1;32m   1233\u001b[0m     msg \u001b[38;5;241m=\u001b[39m \u001b[38;5;124m\"\u001b[39m\u001b[38;5;124mInterrupted by user\u001b[39m\u001b[38;5;124m\"\u001b[39m\n\u001b[0;32m-> 1234\u001b[0m     \u001b[38;5;28;01mraise\u001b[39;00m \u001b[38;5;167;01mKeyboardInterrupt\u001b[39;00m(msg) \u001b[38;5;28;01mfrom\u001b[39;00m \u001b[38;5;28;01mNone\u001b[39;00m\n\u001b[1;32m   1235\u001b[0m \u001b[38;5;28;01mexcept\u001b[39;00m \u001b[38;5;167;01mException\u001b[39;00m:\n\u001b[1;32m   1236\u001b[0m     \u001b[38;5;28mself\u001b[39m\u001b[38;5;241m.\u001b[39mlog\u001b[38;5;241m.\u001b[39mwarning(\u001b[38;5;124m\"\u001b[39m\u001b[38;5;124mInvalid Message:\u001b[39m\u001b[38;5;124m\"\u001b[39m, exc_info\u001b[38;5;241m=\u001b[39m\u001b[38;5;28;01mTrue\u001b[39;00m)\n",
      "\u001b[0;31mKeyboardInterrupt\u001b[0m: Interrupted by user"
     ]
    }
   ],
   "source": [
    "# Run this cell and input your credentials in the notebook\n",
    "uid = input(\"Enter in CDS UID (e.g. 123456)\")\n",
    "key = input(\"Enter your CDS API key (e.g. 12345678-1234-1234-1234-123456123456)\")\n",
    "\n",
    "# Write to config file for CDS library\n",
    "with open(os.path.join(os.path.expanduser(\"~\"), '.cdsapirc'), 'w') as f:\n",
    "    f.write('url: https://cds.climate.copernicus.eu/api/v2\\n')\n",
    "    f.write(f'key: {uid}:{key}\\n')"
   ]
  },
  {
   "cell_type": "markdown",
   "id": "0ead3d40",
   "metadata": {},
   "source": [
    "## Running Inference\n",
    "\n",
    "To run inference we will use the `earth2mip/ensemble_inference.py` part of Earth-2 MIP. When this Python file, we provide either a config JSON file or a JSON serialized string for it to parse. This config contains the information regarding how the model should run inference. The schema of this can be found in `earth2mip/schema/EnsembleRun`.\n",
    "\n",
    "Since we are working in a notebook, lets create this config Pythonically. There are quite a few parameters that can be used, but lets focus in on a few key ones:\n",
    "\n",
    "\"apply_gaussian_perturbation\": True,\n",
    "    \"zonal_location\": 0.0,\n",
    "    \"zonal_sigma\": 1.0,\n",
    "    \"meridional_location\": 0.0,\n",
    "    \"meridional_sigma\": 1.0,\n",
    "    \"gaussian_amplitude\": 0.005,\n",
    "    \"modified_channel\": 't850'\n",
    "    \n",
    "- `apply_gaussian_perturbation`: Bool\n",
    "- `zonal_location`: Zonal location of the gaussian perturbation \n",
    "- `zonal_sigma`: Zonal width of the perturbation\n",
    "- `meridional_location`: Meridional location of the gaussian perturbation \n",
    "- `meridional_sigma`: Meridional width of the perturbation\n",
    "- `gaussian_amplitude`: Amplitude of the gaussian perturbation. For models that run non dimensional make is perecnet of the maximum expected value (here 280)\n",
    "- `modified_channel`: The selected channel to perturb (for now one at a time)\n",
    "\n",
    "Note: It is useful to go over `01_ensemble_inference.ipynb`"
   ]
  },
  {
   "cell_type": "code",
   "execution_count": 6,
   "id": "b7591ec9",
   "metadata": {},
   "outputs": [],
   "source": [
    "config =  {\n",
    "    \"ensemble_members\": 1,\n",
    "    \"simulation_length\": 100,\n",
    "    \"weather_event\": {\n",
    "        \"properties\": {\n",
    "            \"name\": \"Globe\",\n",
    "            \"start_time\": \"2018-06-01 00:00:00\",\n",
    "            \"initial_condition_source\": \"cds\"\n",
    "        },\n",
    "        \"domains\": [\n",
    "            {\n",
    "                \"name\": \"global\",\n",
    "                \"type\": \"Window\",\n",
    "                \"diagnostics\": [\n",
    "                    {\n",
    "                        \"type\": \"raw\",\n",
    "                        \"channels\": [\n",
    "                            \"t2m\",\n",
    "                            \"u10m\",\n",
    "                            \"v10m\",\n",
    "                            \"u850\",\n",
    "                            \"v850\",\n",
    "                            \"t850\",\n",
    "                            \"t500\",\n",
    "                            \"msl\",\n",
    "                            \"z500\",\n",
    "                            \"tcwv\"\n",
    "                        ]\n",
    "                    }\n",
    "                ]\n",
    "            }\n",
    "        ]\n",
    "    },\n",
    "    \"output_path\": \"../outputs/03_perturbation-response_notebook\",\n",
    "    \"output_frequency\": 1,\n",
    "    \"weather_model\": \"fcnv2_sm\",\n",
    "    \"seed\": 12345,\n",
    "    \"use_cuda_graphs\": False,\n",
    "    \"ensemble_batch_size\": 1,\n",
    "    \"autocast_fp16\": False,\n",
    "    \"apply_nudging\": True,\n",
    "    \"latitute_location\": 0.0,\n",
    "    \"latitute_sigma\": 3.0,\n",
    "    \"longitude_location\": 0.0,\n",
    "    \"longitude_sigma\": 3.0,\n",
    "    \"gaussian_amplitude\": 0.1,\n",
    "    \"modified_channels\": [\"t300\", \"t400\", \"t500\", \"t600\", \"t700\"]\n",
    "}"
   ]
  },
  {
   "cell_type": "markdown",
   "id": "7f70fd89",
   "metadata": {},
   "source": [
    "Now we run the `main()` function in `earth2mip.inference_ensemble` providing our config object which will run inference with the following steps:\n",
    "\n",
    "1. Instantiate and load the FCNv2 small weather model onto the device\n",
    "2. Download the initial state data needed from CDS using your saved API key\n",
    "3. Perturb the initial state based on the parameters in the config and run a forecast predicton\n",
    "4. Save output Xarray dataset to NetCDF file located in `../outputs/03_perturbation-response_notebook`\n",
    "\n",
    "(the process may take a while!)"
   ]
  },
  {
   "cell_type": "code",
   "execution_count": 7,
   "id": "d376b013",
   "metadata": {},
   "outputs": [
    {
     "name": "stdout",
     "output_type": "stream",
     "text": [
      "INFO:root:Earth-2 MIP config loaded weather_model='fcnv2_sm' simulation_length=100 perturbation_strategy=<PerturbationStrategy.correlated: 'correlated'> single_value_perturbation=True noise_reddening=2.0 noise_amplitude=0.05 output_frequency=1 output_grid=None ensemble_members=1 seed=12345 ensemble_batch_size=1 forecast_name=None weather_event=WeatherEvent(properties=WeatherEventProperties(name='Globe', start_time=datetime.datetime(2018, 6, 1, 0, 0), initial_condition_source=<InitialConditionSource.cds: 'cds'>, netcdf='', restart=''), domains=[Window(type='Window', name='global', lat_min=-90, lat_max=90, lon_min=0, lon_max=360, diagnostics=[Diagnostic(type='raw', function='', channels=['t2m', 'u10m', 'v10m', 'u850', 'v850', 't850', 't500', 'msl', 'z500', 'tcwv'], nbins=10)])]) output_dir=None output_path='../outputs/03_perturbation-response_notebook' restart_frequency=None apply_nudging=True latitute_location=0.0 latitute_sigma=3.0 longitude_location=0.0 longitude_sigma=3.0 gaussian_amplitude=1.0 modified_channels=['t300', 't400', 't500', 't600', 't700']\n",
      "INFO:root:Loading model onto device cuda:0\n",
      "INFO:root:Constructing initializer data source\n",
      "Traceback (most recent call last):\n",
      "  File \"/usr/lib/python3.10/runpy.py\", line 196, in _run_module_as_main\n",
      "    return _run_code(code, main_globals, None,\n",
      "  File \"/usr/lib/python3.10/runpy.py\", line 86, in _run_code\n",
      "    exec(code, run_globals)\n",
      "  File \"/usr/local/lib/python3.10/dist-packages/earth2mip/inference_ensemble.py\", line 419, in <module>\n",
      "    main()\n",
      "  File \"/usr/local/lib/python3.10/dist-packages/earth2mip/inference_ensemble.py\", line 223, in main\n",
      "    model.nudge = get_nudging(\n",
      "  File \"/usr/local/lib/python3.10/dist-packages/earth2mip/inference_ensemble.py\", line 266, in get_nudging\n",
      "    if config.apply_nudging:\n",
      "  File \"/usr/local/lib/python3.10/dist-packages/torch/nn/modules/module.py\", line 1614, in __getattr__\n",
      "    raise AttributeError(\"'{}' object has no attribute '{}'\".format(\n",
      "AttributeError: 'Inference' object has no attribute 'apply_nudging'\n"
     ]
    }
   ],
   "source": [
    "config_str = json.dumps(config)\n",
    "! python3 -m earth2mip.inference_ensemble '{config_str}'"
   ]
  },
  {
   "cell_type": "code",
   "execution_count": null,
   "id": "e41c0ed7",
   "metadata": {},
   "outputs": [],
   "source": [
    "def open_ensemble(f, domain, chunks={\"time\": 1}):\n",
    "    time = xarray.open_dataset(f).time\n",
    "    root = xarray.open_dataset(f, decode_times=False)\n",
    "    ds = xarray.open_dataset(f, chunks=chunks, group=domain)\n",
    "    ds.attrs = root.attrs\n",
    "    return ds.assign_coords(time=time)\n",
    "\n",
    "output_path = config[\"output_path\"]\n",
    "domains = config[\"weather_event\"][\"domains\"][0][\"name\"]\n",
    "ensemble_members = config[\"ensemble_members\"]\n",
    "ds = open_ensemble(os.path.join(output_path, \"ensemble_out_0.nc\"), domains)\n",
    "ds"
   ]
  },
  {
   "cell_type": "markdown",
   "id": "7fc1d550",
   "metadata": {},
   "source": [
    "## Post Processing\n",
    "\n",
    "With inference complete, now the fun part: post processing and analysis!\n",
    "You can manipulate the data to your hearts content now that its in an Xarray Dataset.\n",
    "Here we will demonstrate some common plotting / analysis workflows one may be interested.\n",
    "Lets start off with importing all our post processing packages."
   ]
  },
  {
   "cell_type": "code",
   "execution_count": null,
   "id": "b38e148b",
   "metadata": {},
   "outputs": [],
   "source": [
    "import numpy as np\n",
    "import pandas as pd\n",
    "import matplotlib as mpl\n",
    "import cartopy.crs as ccrs\n",
    "import cartopy.feature as cfeature\n",
    "import matplotlib.pyplot as plt\n",
    "import matplotlib.colors as mcolors\n",
    "from io import StringIO\n",
    "from matplotlib.colors import TwoSlopeNorm\n",
    "from datetime import datetime, timedelta\n",
    "\n",
    "countries = cfeature.NaturalEarthFeature(\n",
    "    category='cultural',\n",
    "    name='admin_0_countries',\n",
    "    scale='50m',\n",
    "    facecolor='none',\n",
    "    edgecolor='black'\n",
    ")"
   ]
  },
  {
   "cell_type": "markdown",
   "id": "08524a4d",
   "metadata": {},
   "source": [
    "Lets plot the perturbed field at several times. We can read the "
   ]
  },
  {
   "cell_type": "code",
   "execution_count": null,
   "id": "31c7cb35",
   "metadata": {},
   "outputs": [],
   "source": [
    "latitute_location = config[\"latitute_location\"]\n",
    "longitude_location = config[\"longitude_location\"] - 180"
   ]
  },
  {
   "cell_type": "code",
   "execution_count": null,
   "id": "b4ddb8ea",
   "metadata": {},
   "outputs": [],
   "source": [
    "fig = plt.figure(figsize=(15, 10))\n",
    "plt.rcParams['figure.dpi'] = 100\n",
    "# proj = ccrs.NearsidePerspective(central_longitude=latitute_location, central_latitude=longitude_location)\n",
    "proj = ccrs.PlateCarree(central_longitude=180)\n",
    "\n",
    "data = ds.t500[0,0,:,:]\n",
    "norm = TwoSlopeNorm(vmin=220, vcenter=290, vmax=320)\n",
    "ax = fig.add_subplot(131, projection=proj)\n",
    "ax.set_extent([120,360-120, -30, 30], crs=ccrs.PlateCarree())\n",
    "ax.set_title('First ensemble member t2m (K)')\n",
    "img = ax.pcolormesh(ds.lon, ds.lat, data, transform=ccrs.PlateCarree(), norm=norm, cmap=\"seismic\")\n",
    "ax.coastlines(linewidth=0.5)\n",
    "ax.add_feature(countries, edgecolor='black', linewidth=0.25)\n",
    "plt.colorbar(img, ax=ax, shrink=0.20) #, norm=mcolors.CenteredNorm(vcenter=0))\n",
    "gl = ax.gridlines(draw_labels=True, linestyle='--')\n",
    "\n",
    "data = ds.t500[0,1,:,:]\n",
    "norm = TwoSlopeNorm(vmin=220, vcenter=290, vmax=320)\n",
    "ax = fig.add_subplot(132, projection=proj)\n",
    "plt.rcParams['figure.dpi'] = 100\n",
    "ax.set_title('Last ensemble member t2m (K)')\n",
    "ax.set_extent([120,360-120, -30, 30], crs=ccrs.PlateCarree())\n",
    "img = ax.pcolormesh(ds.lon, ds.lat, data, transform=ccrs.PlateCarree(), norm=norm, cmap=\"seismic\")\n",
    "ax.coastlines(linewidth=0.5)\n",
    "ax.add_feature(countries, edgecolor='black', linewidth=0.25)\n",
    "plt.colorbar(img, ax=ax, shrink=0.20) #, norm=mcolors.CenteredNorm(vcenter=0))\n",
    "gl = ax.gridlines(draw_labels=True, linestyle='--')\n",
    "\n",
    "data = ds.t500[0,2,:,:]\n",
    "# norm = TwoSlopeNorm(vmin=data.min().values, vcenter=5, vmax=data.max().values)\n",
    "ax = fig.add_subplot(133, projection=proj)\n",
    "ax.set_extent([120,360-120, -30, 30], crs=ccrs.PlateCarree())\n",
    "ax.set_title('ensemble std  t2m (K)')\n",
    "img = ax.pcolormesh(ds.lon, ds.lat, data, transform=ccrs.PlateCarree(), norm=norm, cmap=\"seismic\")\n",
    "ax.coastlines(linewidth=0.5)\n",
    "ax.add_feature(countries, edgecolor='black', linewidth=0.25)\n",
    "plt.colorbar(img, ax=ax, shrink=0.20) #, norm=mcolors.CenteredNorm(vcenter=0))\n",
    "gl = ax.gridlines(draw_labels=True, linestyle='--')\n",
    "\n",
    "\n",
    "plt.show()\n",
    "IPython.display"
   ]
  },
  {
   "cell_type": "markdown",
   "id": "2cfc67fc",
   "metadata": {},
   "source": [
    "We can also see the `z500` behaviour following this perturbation"
   ]
  },
  {
   "cell_type": "code",
   "execution_count": null,
   "id": "422352c0",
   "metadata": {},
   "outputs": [],
   "source": [
    "fig = plt.figure(figsize=(15, 10))\n",
    "plt.rcParams['figure.dpi'] = 100\n",
    "proj = ccrs.PlateCarree(central_longitude=180)\n",
    "# levels = np.linspace(240,310,101)\n",
    "data = ds.u850[0,0,:,:]\n",
    "u10m = ds.u10m[0,0,:,:]\n",
    "v10m = ds.v10m[0,0,:,:]\n",
    "norm = TwoSlopeNorm(vmin=220, vcenter=290, vmax=320)\n",
    "ax = fig.add_subplot(131, projection=proj)\n",
    "ax.set_extent([170,360-170, -10, 10], crs=ccrs.PlateCarree())\n",
    "ax.set_title('First ensemble member t2m (K)')\n",
    "img = ax.contourf(ds.lon, ds.lat, data, transform=ccrs.PlateCarree())\n",
    "# img = ax.quiver(ds.lon, ds.lat, u10m, v10m)\n",
    "ax.coastlines(linewidth=0.5)\n",
    "ax.add_feature(countries, edgecolor='black', linewidth=0.25)\n",
    "plt.colorbar(img, ax=ax, shrink=0.20) #, norm=mcolors.CenteredNorm(vcenter=0))\n",
    "gl = ax.gridlines(draw_labels=True, linestyle='--')\n",
    "\n",
    "data = ds.u850[0,4,:,:]\n",
    "u10m = ds.u10m[0,4,:,:]\n",
    "v10m = ds.v10m[0,4,:,:]\n",
    "norm = TwoSlopeNorm(vmin=220, vcenter=290, vmax=320)\n",
    "ax = fig.add_subplot(132, projection=proj)\n",
    "plt.rcParams['figure.dpi'] = 100\n",
    "ax.set_title('Last ensemble member t2m (K)')\n",
    "ax.set_extent([170,360-170, -10, 10], crs=ccrs.PlateCarree())\n",
    "img = ax.contourf(ds.lon, ds.lat, data, transform=ccrs.PlateCarree())\n",
    "# img = ax.quiver(ds.lon, ds.lat, u10m, v10m)\n",
    "ax.coastlines(linewidth=0.5)\n",
    "ax.add_feature(countries, edgecolor='black', linewidth=0.25)\n",
    "plt.colorbar(img, ax=ax, shrink=0.20) #, norm=mcolors.CenteredNorm(vcenter=0))\n",
    "gl = ax.gridlines(draw_labels=True, linestyle='--')\n",
    "\n",
    "data = ds.u850[0,8,:,:]\n",
    "u10m = ds.u10m[0,8,:,:]\n",
    "v10m = ds.v10m[0,8,:,:]\n",
    "ax = fig.add_subplot(133, projection=proj)\n",
    "ax.set_extent([170,360-170, -10, 10], crs=ccrs.PlateCarree())\n",
    "ax.set_title('ensemble std  t2m (K)')\n",
    "img = ax.contourf(ds.lon, ds.lat, data, transform=ccrs.PlateCarree())\n",
    "# img = ax.quiver(ds.lon, ds.lat, u10m, v10m)\n",
    "ax.coastlines(linewidth=0.5)\n",
    "ax.add_feature(countries, edgecolor='black', linewidth=0.25)\n",
    "plt.colorbar(img, ax=ax, shrink=0.20) #, norm=mcolors.CenteredNorm(vcenter=0))\n",
    "gl = ax.gridlines(draw_labels=True, linestyle='--')\n",
    "\n",
    "\n",
    "plt.show()\n",
    "IPython.display"
   ]
  },
  {
   "cell_type": "code",
   "execution_count": null,
   "id": "8e1950b5",
   "metadata": {},
   "outputs": [],
   "source": [
    "import matplotlib.pyplot as plt\n",
    "import cartopy.crs as ccrs\n",
    "import cartopy.feature as cfeature\n",
    "from matplotlib.colors import TwoSlopeNorm\n",
    "import matplotlib.colors as mcolors\n",
    "\n",
    "# Sample ds (DataSet) should be defined above this line.\n",
    "\n",
    "fig = plt.figure(figsize=(15, 10))\n",
    "plt.rcParams['figure.dpi'] = 100\n",
    "\n",
    "# Use PlateCarree for simple rectangular projection\n",
    "proj = ccrs.PlateCarree()\n",
    "\n",
    "countries = cfeature.NaturalEarthFeature(\n",
    "    category='cultural',\n",
    "    name='admin_0_countries',\n",
    "    scale='50m',\n",
    "    facecolor='none')\n",
    "\n",
    "# First subplot\n",
    "ax1 = fig.add_subplot(131, projection=proj)\n",
    "data = ds[modified_channel][0, 0, :, :]\n",
    "norm = TwoSlopeNorm(vmin=220, vcenter=290, vmax=320)\n",
    "img1 = ax1.pcolormesh(ds.lon, ds.lat, data, transform=proj, norm=norm, cmap=\"seismic\")\n",
    "ax1.set_title('First ensemble member t2m (K)')\n",
    "ax1.coastlines()\n",
    "ax1.add_feature(countries)\n",
    "plt.colorbar(img1, ax=ax1, shrink=0.4, norm=mcolors.CenteredNorm(vcenter=0))\n",
    "\n",
    "# Second subplot\n",
    "ax2 = fig.add_subplot(132, projection=proj)\n",
    "data = ds[modified_channel][0, 10, :, :]\n",
    "img2 = ax2.pcolormesh(ds.lon, ds.lat, data, transform=proj, norm=norm, cmap=\"seismic\")\n",
    "ax2.set_title('Last ensemble member t2m (K)')\n",
    "ax2.coastlines()\n",
    "ax2.add_feature(countries)\n",
    "plt.colorbar(img2, ax=ax2, shrink=0.4, norm=mcolors.CenteredNorm(vcenter=0))\n",
    "\n",
    "# Third subplot\n",
    "ax3 = fig.add_subplot(133, projection=proj)\n",
    "data = ds[modified_channel][0, 30, :, :]\n",
    "img3 = ax3.pcolormesh(ds.lon, ds.lat, data, transform=proj, cmap=\"seismic\")\n",
    "ax3.set_title('Ensemble std t2m (K)')\n",
    "ax3.coastlines()\n",
    "ax3.add_feature(countries)\n",
    "plt.colorbar(img3, ax=ax3, shrink=0.4, norm=mcolors.CenteredNorm(vcenter=0))\n",
    "\n",
    "plt.show()\n"
   ]
  },
  {
   "cell_type": "code",
   "execution_count": null,
   "id": "5ba32909",
   "metadata": {},
   "outputs": [],
   "source": []
  }
 ],
 "metadata": {
  "kernelspec": {
   "display_name": "Python 3 (ipykernel)",
   "language": "python",
   "name": "python3"
  },
  "language_info": {
   "codemirror_mode": {
    "name": "ipython",
    "version": 3
   },
   "file_extension": ".py",
   "mimetype": "text/x-python",
   "name": "python",
   "nbconvert_exporter": "python",
   "pygments_lexer": "ipython3",
   "version": "3.10.6"
  },
  "vscode": {
   "interpreter": {
    "hash": "767d51c1340bd893661ea55ea3124f6de3c7a262a8b4abca0554b478b1e2ff90"
   }
  }
 },
 "nbformat": 4,
 "nbformat_minor": 5
}
